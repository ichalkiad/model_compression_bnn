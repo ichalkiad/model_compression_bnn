{
 "cells": [
  {
   "cell_type": "code",
   "execution_count": 1,
   "metadata": {},
   "outputs": [],
   "source": [
    "import sys\n",
    "import numpy as np\n",
    "np.random.seed(0)\n",
    "import torch\n",
    "import pylab\n",
    "from sklearn.metrics import confusion_matrix\n",
    "import itertools\n",
    "from debug_visualisation import plot_confusion_matrix"
   ]
  },
  {
   "cell_type": "markdown",
   "metadata": {},
   "source": [
    "# Main code for Concrete Dropout"
   ]
  },
  {
   "cell_type": "code",
   "execution_count": 2,
   "metadata": {},
   "outputs": [
    {
     "name": "stderr",
     "output_type": "stream",
     "text": [
      "Using TensorFlow backend.\n"
     ]
    }
   ],
   "source": [
    "import keras.backend as K\n",
    "from keras import initializers\n",
    "from keras.engine import InputSpec\n",
    "from keras.layers import Dense, Lambda, Wrapper, Concatenate\n",
    "\n",
    "\n",
    "class ConcreteDropout(Wrapper):\n",
    "    \"\"\"This wrapper allows to learn the dropout probability for any given input layer.\n",
    "    ```python\n",
    "        # as the first layer in a model\n",
    "        model = Sequential()\n",
    "        model.add(ConcreteDropout(Dense(8), input_shape=(16)))\n",
    "        # now model.output_shape == (None, 8)\n",
    "        # subsequent layers: no need for input_shape\n",
    "        model.add(ConcreteDropout(Dense(32)))\n",
    "        # now model.output_shape == (None, 32)\n",
    "    ```\n",
    "    `ConcreteDropout` can be used with arbitrary layers, not just `Dense`,\n",
    "    for instance with a `Conv2D` layer:\n",
    "    ```python\n",
    "        model = Sequential()\n",
    "        model.add(ConcreteDropout(Conv2D(64, (3, 3)),\n",
    "                                  input_shape=(299, 299, 3)))\n",
    "    ```\n",
    "    # Arguments\n",
    "        layer: a layer instance.\n",
    "        weight_regularizer:\n",
    "            A positive number which satisfies\n",
    "                $weight_regularizer = l**2 / (\\tau * N)$\n",
    "            with prior lengthscale l, model precision $\\tau$ (inverse observation noise),\n",
    "            and N the number of instances in the dataset.\n",
    "            Note that kernel_regularizer is not needed.\n",
    "        dropout_regularizer:\n",
    "            A positive number which satisfies\n",
    "                $dropout_regularizer = 2 / (\\tau * N)$\n",
    "            with model precision $\\tau$ (inverse observation noise) and N the number of\n",
    "            instances in the dataset.\n",
    "            Note the relation between dropout_regularizer and weight_regularizer:\n",
    "                $weight_regularizer / dropout_regularizer = l**2 / 2$\n",
    "            with prior lengthscale l. Note also that the factor of two should be\n",
    "            ignored for cross-entropy loss, and used only for the eculedian loss.\n",
    "    \"\"\"\n",
    "\n",
    "    def __init__(self, layer, weight_regularizer=1e-6, dropout_regularizer=1e-5,\n",
    "                 init_min=0.1, init_max=0.1, is_mc_dropout=True, **kwargs):\n",
    "        assert 'kernel_regularizer' not in kwargs\n",
    "        super(ConcreteDropout, self).__init__(layer, **kwargs)\n",
    "        self.weight_regularizer = weight_regularizer\n",
    "        self.dropout_regularizer = dropout_regularizer\n",
    "        self.is_mc_dropout = is_mc_dropout\n",
    "        self.supports_masking = True\n",
    "        self.p_logit = None\n",
    "        self.p = None\n",
    "        self.init_min = np.log(init_min) - np.log(1. - init_min)\n",
    "        self.init_max = np.log(init_max) - np.log(1. - init_max)\n",
    "\n",
    "    def build(self, input_shape=None):\n",
    "        self.input_spec = InputSpec(shape=input_shape)\n",
    "        if not self.layer.built:\n",
    "            self.layer.build(input_shape)\n",
    "            self.layer.built = True\n",
    "        super(ConcreteDropout, self).build()  # this is very weird.. we must call super before we add new losses\n",
    "\n",
    "        # initialise p\n",
    "        self.p_logit = self.layer.add_weight(name='p_logit',\n",
    "                                            shape=(1,),\n",
    "                                            initializer=initializers.RandomUniform(self.init_min, self.init_max),\n",
    "                                            trainable=True)\n",
    "        self.p = K.sigmoid(self.p_logit[0])\n",
    "\n",
    "        # initialise regulariser / prior KL term\n",
    "        input_dim = np.prod(input_shape[1:])  # we drop only last dim\n",
    "        weight = self.layer.kernel\n",
    "        kernel_regularizer = self.weight_regularizer * K.sum(K.square(weight)) / (1. - self.p)\n",
    "        dropout_regularizer = self.p * K.log(self.p)\n",
    "        dropout_regularizer += (1. - self.p) * K.log(1. - self.p)\n",
    "        dropout_regularizer *= self.dropout_regularizer * input_dim\n",
    "        regularizer = K.sum(kernel_regularizer + dropout_regularizer)\n",
    "        self.layer.add_loss(regularizer)\n",
    "\n",
    "    def compute_output_shape(self, input_shape):\n",
    "        return self.layer.compute_output_shape(input_shape)\n",
    "\n",
    "    def concrete_dropout(self, x):\n",
    "        '''\n",
    "        Concrete dropout - used at training time (gradients can be propagated)\n",
    "        :param x: input\n",
    "        :return:  approx. dropped out input\n",
    "        '''\n",
    "        eps = K.cast_to_floatx(K.epsilon())\n",
    "        temp = 0.1\n",
    "\n",
    "        unif_noise = K.random_uniform(shape=K.shape(x))\n",
    "        drop_prob = (\n",
    "            K.log(self.p + eps)\n",
    "            - K.log(1. - self.p + eps)\n",
    "            + K.log(unif_noise + eps)\n",
    "            - K.log(1. - unif_noise + eps)\n",
    "        )\n",
    "        drop_prob = K.sigmoid(drop_prob / temp)\n",
    "        random_tensor = 1. - drop_prob\n",
    "\n",
    "        retain_prob = 1. - self.p\n",
    "        x *= random_tensor\n",
    "        x /= retain_prob\n",
    "        return x\n",
    "\n",
    "    def call(self, inputs, training=None):\n",
    "        if self.is_mc_dropout:\n",
    "            return self.layer.call(self.concrete_dropout(inputs))\n",
    "        else:\n",
    "            def relaxed_dropped_inputs():\n",
    "                return self.layer.call(self.concrete_dropout(inputs))\n",
    "            return K.in_train_phase(relaxed_dropped_inputs,\n",
    "                                    self.layer.call(inputs),\n",
    "                                    training=training)"
   ]
  },
  {
   "cell_type": "markdown",
   "metadata": {},
   "source": [
    "### Plot function to make sure stuff makes sense:"
   ]
  },
  {
   "cell_type": "code",
   "execution_count": 27,
   "metadata": {},
   "outputs": [],
   "source": [
    "def plot(reps=None,train_loss=None,valid_loss=None,uncertainty=None,val_acc=None, valid_y=None,preds=None):\n",
    "    \n",
    "   fig = pylab.figure() \n",
    "   _, (ax1, ax2) = pylab.subplots(1, 2,figsize=(15, 5), sharex=False, sharey=False)\n",
    "   #Plot loss on training and validation set    \n",
    "   ax1.plot(reps, train_loss, c='r', label='Training')\n",
    "   ax1.plot(reps, valid_loss, c='g', label='Validation')\n",
    "   ax1.set_title('Losses')\n",
    "   ax1.legend()\n",
    "   #Plot student confusion matrix\n",
    "   names = ['Slight-Right-Turn','Sharp-Right-Turn','Move-Forward','Slight-Left-Turn']\n",
    "   cnf_matrix = confusion_matrix(np.argmax(valid_y,axis=-1), preds)  \n",
    "   pylab.sca(ax2)\n",
    "   plot_confusion_matrix(cnf_matrix, classes=names,normalize=False,title='Student confusion matrix')\n",
    " \n",
    "   pylab.show()"
   ]
  },
  {
   "cell_type": "markdown",
   "metadata": {},
   "source": [
    "# Evaluate Concrete Dropout"
   ]
  },
  {
   "cell_type": "code",
   "execution_count": 37,
   "metadata": {},
   "outputs": [],
   "source": [
    "nb_epochs = [500]\n",
    "nb_reps = 3\n",
    "K_test = 20\n",
    "batch_size = 20\n",
    "Q = 24\n",
    "nb_features = 7\n",
    "l = 1e-4\n",
    "D = 4\n",
    "with open('/tmp/bayesian_compression_24sensorsbnnTest/valid_data_24sensors_teacherLabels.pt','rb') as f:\n",
    "      valid = torch.load(f)\n",
    "with open('/tmp/bayesian_compression_24sensorsbnnTest/train_data_24sensors_teacherLabels.pt','rb') as f:\n",
    "      train = torch.load(f)\n",
    "\n",
    "     \n",
    "N = train.shape[0]\n",
    "X_tr = train[:,0:24]\n",
    "Y_tr = train[:,24:28]\n",
    "X_v = valid[:,0:24]\n",
    "Y_v = valid[:,24:28]\n",
    "   \n",
    "    \n",
    "    "
   ]
  },
  {
   "cell_type": "markdown",
   "metadata": {},
   "source": [
    "### Fit function:"
   ]
  },
  {
   "cell_type": "code",
   "execution_count": 50,
   "metadata": {},
   "outputs": [],
   "source": [
    "from keras.layers import Input, Dense, Lambda, merge\n",
    "from keras.models import Model\n",
    "from keras import backend as K\n",
    "\n",
    "def fit_model(nb_epoch, X, Y, validation_data=None):\n",
    "    if K.backend() == 'tensorflow':\n",
    "        K.clear_session()\n",
    "    N = X.shape[0]\n",
    "    wd = l**2. / N\n",
    "    dd = 2. / N\n",
    "    inp = Input(shape=(Q,))\n",
    "    x = inp\n",
    "    x = ConcreteDropout(Dense(nb_features, activation='relu'), weight_regularizer=wd, dropout_regularizer=dd)(x)\n",
    "    x = ConcreteDropout(Dense(nb_features, activation='relu'), weight_regularizer=wd, dropout_regularizer=dd)(x)\n",
    "    x = ConcreteDropout(Dense(D,activation='sigmoid'), weight_regularizer=wd, dropout_regularizer=dd)(x)\n",
    "    out = x \n",
    "    model = Model(inp, out)\n",
    "    \n",
    "    \n",
    "    model.compile(optimizer='adam', loss='binary_crossentropy')\n",
    "    assert len(model.layers[1].trainable_weights) == 3  # kernel, bias, and dropout prob\n",
    "    assert len(model.losses) == 3  # a loss for each Concrete Dropout layer\n",
    "    if validation_data==None:\n",
    "        hist = model.fit(X, Y, epochs=nb_epoch, batch_size=batch_size, verbose=0)    \n",
    "    else:\n",
    "        hist = model.fit(X, Y, epochs=nb_epoch, batch_size=batch_size, verbose=0, validation_data=validation_data)\n",
    "    loss = hist.history['loss'][-1]\n",
    "    return hist,model, -0.5 * loss  # return ELBO up to const."
   ]
  },
  {
   "cell_type": "markdown",
   "metadata": {},
   "source": [
    "### Eval function:"
   ]
  },
  {
   "cell_type": "code",
   "execution_count": 51,
   "metadata": {},
   "outputs": [],
   "source": [
    "def test(Y_true, MC_samples):\n",
    "    \"\"\"\n",
    "    :Y_true: a 2D array of size N x 4\n",
    "    :MC_samples: a 3D array of size samples K x N x 4\n",
    "    \"\"\"\n",
    "    assert len(MC_samples.shape) == 3\n",
    "    assert len(Y_true.shape) == 2\n",
    "    k = MC_samples.shape[0]\n",
    "    N = Y_true.shape[0]\n",
    "    #Get probability of each class after MC sampling, so that we can get the mean\n",
    "    MC_means = np.sum(MC_samples,axis=0)/float(k)\n",
    "    MC_pred = np.argmax(MC_means,axis=-1)   \n",
    "    y_pred = np.argmax(Y_true,axis=-1)\n",
    "    acc = len(np.where(MC_pred==y_pred)[0])/float(N)*100\n",
    "   \n",
    "    print(\"\\n ( Micro Averaging ) Accuracy: {}\".format(acc))\n",
    "    \n",
    "    return acc, MC_means, MC_pred\n",
    "\n",
    "        "
   ]
  },
  {
   "cell_type": "markdown",
   "metadata": {},
   "source": [
    "#Run experiment"
   ]
  },
  {
   "cell_type": "code",
   "execution_count": 52,
   "metadata": {
    "scrolled": false
   },
   "outputs": [
    {
     "name": "stdout",
     "output_type": "stream",
     "text": [
      "\n",
      " ( Micro Averaging ) Accuracy: 91.3499344692\n",
      "Confusion matrix, without normalization\n",
      "[[ 88   3  11   0]\n",
      " [  0 218  17   0]\n",
      " [ 11  10 336   2]\n",
      " [  0   1  11  55]]\n"
     ]
    },
    {
     "data": {
      "text/plain": [
       "<Figure size 432x288 with 0 Axes>"
      ]
     },
     "metadata": {},
     "output_type": "display_data"
    },
    {
     "data": {
      "image/png": "[encoded data removed]",
      "text/plain": [
       "<Figure size 1080x360 with 3 Axes>"
      ]
     },
     "metadata": {},
     "output_type": "display_data"
    },
    {
     "ename": "KeyboardInterrupt",
     "evalue": "",
     "output_type": "error",
     "traceback": [
      "\u001b[0;31m---------------------------------------------------------------------------\u001b[0m",
      "\u001b[0;31mKeyboardInterrupt\u001b[0m                         Traceback (most recent call last)",
      "\u001b[0;32m<ipython-input-52-820057f6e40f>\u001b[0m in \u001b[0;36m<module>\u001b[0;34m()\u001b[0m\n\u001b[1;32m     10\u001b[0m         \u001b[0mX_train\u001b[0m\u001b[0;34m,\u001b[0m \u001b[0mY_train\u001b[0m \u001b[0;34m=\u001b[0m \u001b[0mX_tr\u001b[0m\u001b[0;34m,\u001b[0m \u001b[0mY_tr\u001b[0m\u001b[0;34m\u001b[0m\u001b[0m\n\u001b[1;32m     11\u001b[0m         \u001b[0mX_val\u001b[0m\u001b[0;34m,\u001b[0m \u001b[0mY_val\u001b[0m \u001b[0;34m=\u001b[0m \u001b[0mX_v\u001b[0m\u001b[0;34m,\u001b[0m \u001b[0mY_v\u001b[0m\u001b[0;34m\u001b[0m\u001b[0m\n\u001b[0;32m---> 12\u001b[0;31m         \u001b[0mhist\u001b[0m\u001b[0;34m,\u001b[0m \u001b[0mmodel\u001b[0m\u001b[0;34m,\u001b[0m \u001b[0mELBO\u001b[0m \u001b[0;34m=\u001b[0m \u001b[0mfit_model\u001b[0m\u001b[0;34m(\u001b[0m\u001b[0mnb_epoch\u001b[0m\u001b[0;34m,\u001b[0m \u001b[0mX_train\u001b[0m\u001b[0;34m,\u001b[0m \u001b[0mY_train\u001b[0m\u001b[0;34m,\u001b[0m \u001b[0mvalidation_data\u001b[0m\u001b[0;34m=\u001b[0m\u001b[0;34m(\u001b[0m\u001b[0mX_val\u001b[0m\u001b[0;34m,\u001b[0m \u001b[0mY_val\u001b[0m\u001b[0;34m)\u001b[0m\u001b[0;34m)\u001b[0m\u001b[0;34m\u001b[0m\u001b[0m\n\u001b[0m\u001b[1;32m     13\u001b[0m         \u001b[0mvalid_loss_hist\u001b[0m \u001b[0;34m=\u001b[0m \u001b[0mhist\u001b[0m\u001b[0;34m.\u001b[0m\u001b[0mhistory\u001b[0m\u001b[0;34m[\u001b[0m\u001b[0;34m'val_loss'\u001b[0m\u001b[0;34m]\u001b[0m\u001b[0;34m\u001b[0m\u001b[0m\n\u001b[1;32m     14\u001b[0m         \u001b[0mtrain_loss_hist\u001b[0m \u001b[0;34m=\u001b[0m \u001b[0mhist\u001b[0m\u001b[0;34m.\u001b[0m\u001b[0mhistory\u001b[0m\u001b[0;34m[\u001b[0m\u001b[0;34m'loss'\u001b[0m\u001b[0;34m]\u001b[0m\u001b[0;34m\u001b[0m\u001b[0m\n",
      "\u001b[0;32m<ipython-input-50-275435d051d9>\u001b[0m in \u001b[0;36mfit_model\u001b[0;34m(nb_epoch, X, Y, validation_data)\u001b[0m\n\u001b[1;32m     24\u001b[0m         \u001b[0mhist\u001b[0m \u001b[0;34m=\u001b[0m \u001b[0mmodel\u001b[0m\u001b[0;34m.\u001b[0m\u001b[0mfit\u001b[0m\u001b[0;34m(\u001b[0m\u001b[0mX\u001b[0m\u001b[0;34m,\u001b[0m \u001b[0mY\u001b[0m\u001b[0;34m,\u001b[0m \u001b[0mepochs\u001b[0m\u001b[0;34m=\u001b[0m\u001b[0mnb_epoch\u001b[0m\u001b[0;34m,\u001b[0m \u001b[0mbatch_size\u001b[0m\u001b[0;34m=\u001b[0m\u001b[0mbatch_size\u001b[0m\u001b[0;34m,\u001b[0m \u001b[0mverbose\u001b[0m\u001b[0;34m=\u001b[0m\u001b[0;36m0\u001b[0m\u001b[0;34m)\u001b[0m\u001b[0;34m\u001b[0m\u001b[0m\n\u001b[1;32m     25\u001b[0m     \u001b[0;32melse\u001b[0m\u001b[0;34m:\u001b[0m\u001b[0;34m\u001b[0m\u001b[0m\n\u001b[0;32m---> 26\u001b[0;31m         \u001b[0mhist\u001b[0m \u001b[0;34m=\u001b[0m \u001b[0mmodel\u001b[0m\u001b[0;34m.\u001b[0m\u001b[0mfit\u001b[0m\u001b[0;34m(\u001b[0m\u001b[0mX\u001b[0m\u001b[0;34m,\u001b[0m \u001b[0mY\u001b[0m\u001b[0;34m,\u001b[0m \u001b[0mepochs\u001b[0m\u001b[0;34m=\u001b[0m\u001b[0mnb_epoch\u001b[0m\u001b[0;34m,\u001b[0m \u001b[0mbatch_size\u001b[0m\u001b[0;34m=\u001b[0m\u001b[0mbatch_size\u001b[0m\u001b[0;34m,\u001b[0m \u001b[0mverbose\u001b[0m\u001b[0;34m=\u001b[0m\u001b[0;36m0\u001b[0m\u001b[0;34m,\u001b[0m \u001b[0mvalidation_data\u001b[0m\u001b[0;34m=\u001b[0m\u001b[0mvalidation_data\u001b[0m\u001b[0;34m)\u001b[0m\u001b[0;34m\u001b[0m\u001b[0m\n\u001b[0m\u001b[1;32m     27\u001b[0m     \u001b[0mloss\u001b[0m \u001b[0;34m=\u001b[0m \u001b[0mhist\u001b[0m\u001b[0;34m.\u001b[0m\u001b[0mhistory\u001b[0m\u001b[0;34m[\u001b[0m\u001b[0;34m'loss'\u001b[0m\u001b[0;34m]\u001b[0m\u001b[0;34m[\u001b[0m\u001b[0;34m-\u001b[0m\u001b[0;36m1\u001b[0m\u001b[0;34m]\u001b[0m\u001b[0;34m\u001b[0m\u001b[0m\n\u001b[1;32m     28\u001b[0m     \u001b[0;32mreturn\u001b[0m \u001b[0mhist\u001b[0m\u001b[0;34m,\u001b[0m\u001b[0mmodel\u001b[0m\u001b[0;34m,\u001b[0m \u001b[0;34m-\u001b[0m\u001b[0;36m0.5\u001b[0m \u001b[0;34m*\u001b[0m \u001b[0mloss\u001b[0m  \u001b[0;31m# return ELBO up to const.\u001b[0m\u001b[0;34m\u001b[0m\u001b[0m\n",
      "\u001b[0;32m/usr/local/lib/python2.7/dist-packages/keras/engine/training.pyc\u001b[0m in \u001b[0;36mfit\u001b[0;34m(self, x, y, batch_size, epochs, verbose, callbacks, validation_split, validation_data, shuffle, class_weight, sample_weight, initial_epoch, **kwargs)\u001b[0m\n\u001b[1;32m   1428\u001b[0m                               \u001b[0mval_f\u001b[0m\u001b[0;34m=\u001b[0m\u001b[0mval_f\u001b[0m\u001b[0;34m,\u001b[0m \u001b[0mval_ins\u001b[0m\u001b[0;34m=\u001b[0m\u001b[0mval_ins\u001b[0m\u001b[0;34m,\u001b[0m \u001b[0mshuffle\u001b[0m\u001b[0;34m=\u001b[0m\u001b[0mshuffle\u001b[0m\u001b[0;34m,\u001b[0m\u001b[0;34m\u001b[0m\u001b[0m\n\u001b[1;32m   1429\u001b[0m                               \u001b[0mcallback_metrics\u001b[0m\u001b[0;34m=\u001b[0m\u001b[0mcallback_metrics\u001b[0m\u001b[0;34m,\u001b[0m\u001b[0;34m\u001b[0m\u001b[0m\n\u001b[0;32m-> 1430\u001b[0;31m                               initial_epoch=initial_epoch)\n\u001b[0m\u001b[1;32m   1431\u001b[0m \u001b[0;34m\u001b[0m\u001b[0m\n\u001b[1;32m   1432\u001b[0m     \u001b[0;32mdef\u001b[0m \u001b[0mevaluate\u001b[0m\u001b[0;34m(\u001b[0m\u001b[0mself\u001b[0m\u001b[0;34m,\u001b[0m \u001b[0mx\u001b[0m\u001b[0;34m,\u001b[0m \u001b[0my\u001b[0m\u001b[0;34m,\u001b[0m \u001b[0mbatch_size\u001b[0m\u001b[0;34m=\u001b[0m\u001b[0;36m32\u001b[0m\u001b[0;34m,\u001b[0m \u001b[0mverbose\u001b[0m\u001b[0;34m=\u001b[0m\u001b[0;36m1\u001b[0m\u001b[0;34m,\u001b[0m \u001b[0msample_weight\u001b[0m\u001b[0;34m=\u001b[0m\u001b[0mNone\u001b[0m\u001b[0;34m)\u001b[0m\u001b[0;34m:\u001b[0m\u001b[0;34m\u001b[0m\u001b[0m\n",
      "\u001b[0;32m/usr/local/lib/python2.7/dist-packages/keras/engine/training.pyc\u001b[0m in \u001b[0;36m_fit_loop\u001b[0;34m(self, f, ins, out_labels, batch_size, epochs, verbose, callbacks, val_f, val_ins, shuffle, callback_metrics, initial_epoch)\u001b[0m\n\u001b[1;32m   1077\u001b[0m                 \u001b[0mbatch_logs\u001b[0m\u001b[0;34m[\u001b[0m\u001b[0;34m'size'\u001b[0m\u001b[0;34m]\u001b[0m \u001b[0;34m=\u001b[0m \u001b[0mlen\u001b[0m\u001b[0;34m(\u001b[0m\u001b[0mbatch_ids\u001b[0m\u001b[0;34m)\u001b[0m\u001b[0;34m\u001b[0m\u001b[0m\n\u001b[1;32m   1078\u001b[0m                 \u001b[0mcallbacks\u001b[0m\u001b[0;34m.\u001b[0m\u001b[0mon_batch_begin\u001b[0m\u001b[0;34m(\u001b[0m\u001b[0mbatch_index\u001b[0m\u001b[0;34m,\u001b[0m \u001b[0mbatch_logs\u001b[0m\u001b[0;34m)\u001b[0m\u001b[0;34m\u001b[0m\u001b[0m\n\u001b[0;32m-> 1079\u001b[0;31m                 \u001b[0mouts\u001b[0m \u001b[0;34m=\u001b[0m \u001b[0mf\u001b[0m\u001b[0;34m(\u001b[0m\u001b[0mins_batch\u001b[0m\u001b[0;34m)\u001b[0m\u001b[0;34m\u001b[0m\u001b[0m\n\u001b[0m\u001b[1;32m   1080\u001b[0m                 \u001b[0;32mif\u001b[0m \u001b[0;32mnot\u001b[0m \u001b[0misinstance\u001b[0m\u001b[0;34m(\u001b[0m\u001b[0mouts\u001b[0m\u001b[0;34m,\u001b[0m \u001b[0mlist\u001b[0m\u001b[0;34m)\u001b[0m\u001b[0;34m:\u001b[0m\u001b[0;34m\u001b[0m\u001b[0m\n\u001b[1;32m   1081\u001b[0m                     \u001b[0mouts\u001b[0m \u001b[0;34m=\u001b[0m \u001b[0;34m[\u001b[0m\u001b[0mouts\u001b[0m\u001b[0;34m]\u001b[0m\u001b[0;34m\u001b[0m\u001b[0m\n",
      "\u001b[0;32m/usr/local/lib/python2.7/dist-packages/keras/backend/tensorflow_backend.pyc\u001b[0m in \u001b[0;36m__call__\u001b[0;34m(self, inputs)\u001b[0m\n\u001b[1;32m   2266\u001b[0m         updated = session.run(self.outputs + [self.updates_op],\n\u001b[1;32m   2267\u001b[0m                               \u001b[0mfeed_dict\u001b[0m\u001b[0;34m=\u001b[0m\u001b[0mfeed_dict\u001b[0m\u001b[0;34m,\u001b[0m\u001b[0;34m\u001b[0m\u001b[0m\n\u001b[0;32m-> 2268\u001b[0;31m                               **self.session_kwargs)\n\u001b[0m\u001b[1;32m   2269\u001b[0m         \u001b[0;32mreturn\u001b[0m \u001b[0mupdated\u001b[0m\u001b[0;34m[\u001b[0m\u001b[0;34m:\u001b[0m\u001b[0mlen\u001b[0m\u001b[0;34m(\u001b[0m\u001b[0mself\u001b[0m\u001b[0;34m.\u001b[0m\u001b[0moutputs\u001b[0m\u001b[0;34m)\u001b[0m\u001b[0;34m]\u001b[0m\u001b[0;34m\u001b[0m\u001b[0m\n\u001b[1;32m   2270\u001b[0m \u001b[0;34m\u001b[0m\u001b[0m\n",
      "\u001b[0;32m/usr/local/lib/python2.7/dist-packages/tensorflow/python/client/session.pyc\u001b[0m in \u001b[0;36mrun\u001b[0;34m(self, fetches, feed_dict, options, run_metadata)\u001b[0m\n\u001b[1;32m    903\u001b[0m     \u001b[0;32mtry\u001b[0m\u001b[0;34m:\u001b[0m\u001b[0;34m\u001b[0m\u001b[0m\n\u001b[1;32m    904\u001b[0m       result = self._run(None, fetches, feed_dict, options_ptr,\n\u001b[0;32m--> 905\u001b[0;31m                          run_metadata_ptr)\n\u001b[0m\u001b[1;32m    906\u001b[0m       \u001b[0;32mif\u001b[0m \u001b[0mrun_metadata\u001b[0m\u001b[0;34m:\u001b[0m\u001b[0;34m\u001b[0m\u001b[0m\n\u001b[1;32m    907\u001b[0m         \u001b[0mproto_data\u001b[0m \u001b[0;34m=\u001b[0m \u001b[0mtf_session\u001b[0m\u001b[0;34m.\u001b[0m\u001b[0mTF_GetBuffer\u001b[0m\u001b[0;34m(\u001b[0m\u001b[0mrun_metadata_ptr\u001b[0m\u001b[0;34m)\u001b[0m\u001b[0;34m\u001b[0m\u001b[0m\n",
      "\u001b[0;32m/usr/local/lib/python2.7/dist-packages/tensorflow/python/client/session.pyc\u001b[0m in \u001b[0;36m_run\u001b[0;34m(self, handle, fetches, feed_dict, options, run_metadata)\u001b[0m\n\u001b[1;32m   1135\u001b[0m     \u001b[0;32mif\u001b[0m \u001b[0mfinal_fetches\u001b[0m \u001b[0;32mor\u001b[0m \u001b[0mfinal_targets\u001b[0m \u001b[0;32mor\u001b[0m \u001b[0;34m(\u001b[0m\u001b[0mhandle\u001b[0m \u001b[0;32mand\u001b[0m \u001b[0mfeed_dict_tensor\u001b[0m\u001b[0;34m)\u001b[0m\u001b[0;34m:\u001b[0m\u001b[0;34m\u001b[0m\u001b[0m\n\u001b[1;32m   1136\u001b[0m       results = self._do_run(handle, final_targets, final_fetches,\n\u001b[0;32m-> 1137\u001b[0;31m                              feed_dict_tensor, options, run_metadata)\n\u001b[0m\u001b[1;32m   1138\u001b[0m     \u001b[0;32melse\u001b[0m\u001b[0;34m:\u001b[0m\u001b[0;34m\u001b[0m\u001b[0m\n\u001b[1;32m   1139\u001b[0m       \u001b[0mresults\u001b[0m \u001b[0;34m=\u001b[0m \u001b[0;34m[\u001b[0m\u001b[0;34m]\u001b[0m\u001b[0;34m\u001b[0m\u001b[0m\n",
      "\u001b[0;32m/usr/local/lib/python2.7/dist-packages/tensorflow/python/client/session.pyc\u001b[0m in \u001b[0;36m_do_run\u001b[0;34m(self, handle, target_list, fetch_list, feed_dict, options, run_metadata)\u001b[0m\n\u001b[1;32m   1353\u001b[0m     \u001b[0;32mif\u001b[0m \u001b[0mhandle\u001b[0m \u001b[0;32mis\u001b[0m \u001b[0mNone\u001b[0m\u001b[0;34m:\u001b[0m\u001b[0;34m\u001b[0m\u001b[0m\n\u001b[1;32m   1354\u001b[0m       return self._do_call(_run_fn, self._session, feeds, fetches, targets,\n\u001b[0;32m-> 1355\u001b[0;31m                            options, run_metadata)\n\u001b[0m\u001b[1;32m   1356\u001b[0m     \u001b[0;32melse\u001b[0m\u001b[0;34m:\u001b[0m\u001b[0;34m\u001b[0m\u001b[0m\n\u001b[1;32m   1357\u001b[0m       \u001b[0;32mreturn\u001b[0m \u001b[0mself\u001b[0m\u001b[0;34m.\u001b[0m\u001b[0m_do_call\u001b[0m\u001b[0;34m(\u001b[0m\u001b[0m_prun_fn\u001b[0m\u001b[0;34m,\u001b[0m \u001b[0mself\u001b[0m\u001b[0;34m.\u001b[0m\u001b[0m_session\u001b[0m\u001b[0;34m,\u001b[0m \u001b[0mhandle\u001b[0m\u001b[0;34m,\u001b[0m \u001b[0mfeeds\u001b[0m\u001b[0;34m,\u001b[0m \u001b[0mfetches\u001b[0m\u001b[0;34m)\u001b[0m\u001b[0;34m\u001b[0m\u001b[0m\n",
      "\u001b[0;32m/usr/local/lib/python2.7/dist-packages/tensorflow/python/client/session.pyc\u001b[0m in \u001b[0;36m_do_call\u001b[0;34m(self, fn, *args)\u001b[0m\n\u001b[1;32m   1359\u001b[0m   \u001b[0;32mdef\u001b[0m \u001b[0m_do_call\u001b[0m\u001b[0;34m(\u001b[0m\u001b[0mself\u001b[0m\u001b[0;34m,\u001b[0m \u001b[0mfn\u001b[0m\u001b[0;34m,\u001b[0m \u001b[0;34m*\u001b[0m\u001b[0margs\u001b[0m\u001b[0;34m)\u001b[0m\u001b[0;34m:\u001b[0m\u001b[0;34m\u001b[0m\u001b[0m\n\u001b[1;32m   1360\u001b[0m     \u001b[0;32mtry\u001b[0m\u001b[0;34m:\u001b[0m\u001b[0;34m\u001b[0m\u001b[0m\n\u001b[0;32m-> 1361\u001b[0;31m       \u001b[0;32mreturn\u001b[0m \u001b[0mfn\u001b[0m\u001b[0;34m(\u001b[0m\u001b[0;34m*\u001b[0m\u001b[0margs\u001b[0m\u001b[0;34m)\u001b[0m\u001b[0;34m\u001b[0m\u001b[0m\n\u001b[0m\u001b[1;32m   1362\u001b[0m     \u001b[0;32mexcept\u001b[0m \u001b[0merrors\u001b[0m\u001b[0;34m.\u001b[0m\u001b[0mOpError\u001b[0m \u001b[0;32mas\u001b[0m \u001b[0me\u001b[0m\u001b[0;34m:\u001b[0m\u001b[0;34m\u001b[0m\u001b[0m\n\u001b[1;32m   1363\u001b[0m       \u001b[0mmessage\u001b[0m \u001b[0;34m=\u001b[0m \u001b[0mcompat\u001b[0m\u001b[0;34m.\u001b[0m\u001b[0mas_text\u001b[0m\u001b[0;34m(\u001b[0m\u001b[0me\u001b[0m\u001b[0;34m.\u001b[0m\u001b[0mmessage\u001b[0m\u001b[0;34m)\u001b[0m\u001b[0;34m\u001b[0m\u001b[0m\n",
      "\u001b[0;32m/usr/local/lib/python2.7/dist-packages/tensorflow/python/client/session.pyc\u001b[0m in \u001b[0;36m_run_fn\u001b[0;34m(session, feed_dict, fetch_list, target_list, options, run_metadata)\u001b[0m\n\u001b[1;32m   1338\u001b[0m         \u001b[0;32melse\u001b[0m\u001b[0;34m:\u001b[0m\u001b[0;34m\u001b[0m\u001b[0m\n\u001b[1;32m   1339\u001b[0m           return tf_session.TF_Run(session, options, feed_dict, fetch_list,\n\u001b[0;32m-> 1340\u001b[0;31m                                    target_list, status, run_metadata)\n\u001b[0m\u001b[1;32m   1341\u001b[0m \u001b[0;34m\u001b[0m\u001b[0m\n\u001b[1;32m   1342\u001b[0m     \u001b[0;32mdef\u001b[0m \u001b[0m_prun_fn\u001b[0m\u001b[0;34m(\u001b[0m\u001b[0msession\u001b[0m\u001b[0;34m,\u001b[0m \u001b[0mhandle\u001b[0m\u001b[0;34m,\u001b[0m \u001b[0mfeed_dict\u001b[0m\u001b[0;34m,\u001b[0m \u001b[0mfetch_list\u001b[0m\u001b[0;34m)\u001b[0m\u001b[0;34m:\u001b[0m\u001b[0;34m\u001b[0m\u001b[0m\n",
      "\u001b[0;31mKeyboardInterrupt\u001b[0m: "
     ]
    }
   ],
   "source": [
    "results = []\n",
    "\n",
    "# get results for multiple N\n",
    "#for N, nb_epoch in zip(Ns, nb_epochs):\n",
    "for nb_epoch in nb_epochs:\n",
    "       \n",
    "    # repeat exp multiple times\n",
    "    rep_results = []\n",
    "    for i in xrange(nb_reps):\n",
    "        X_train, Y_train = X_tr, Y_tr\n",
    "        X_val, Y_val = X_v, Y_v\n",
    "        hist, model, ELBO = fit_model(nb_epoch, X_train, Y_train, validation_data=(X_val, Y_val))\n",
    "        valid_loss_hist = hist.history['val_loss']\n",
    "        train_loss_hist = hist.history['loss']\n",
    "       \n",
    "        MC_samples = np.array([model.predict(X_val) for _ in range(K_test)])\n",
    "        acc, MC_means, MC_pred = test(Y_val, MC_samples)  \n",
    "        \n",
    "        means = np.zeros((Y_val.shape[0],))  \n",
    "        means_sq = np.zeros((Y_val.shape[0],))  \n",
    "        means[:] = MC_means[:,0]*0 + MC_means[:,1]*1 + MC_means[:,2]*2 + MC_means[:,3]*3\n",
    "        means_sq[:] = MC_means[:,0]*(0**2) + MC_means[:,1]*(1**2) + MC_means[:,2]*(2**2) + MC_means[:,3]*(3**2)\n",
    "        vars = np.zeros((Y_val.shape[0],))  \n",
    "        vars[:] = means_sq[:] - means[:]**2\n",
    "        epistemic_uncertainty = vars.mean(0)\n",
    "        ps = np.array([K.eval(layer.p) for layer in model.layers if hasattr(layer, 'p')])\n",
    "              \n",
    "    \n",
    "        rep_results += [(acc, ps, epistemic_uncertainty)]\n",
    "        plot(range(nb_epoch),train_loss=train_loss_hist,valid_loss=valid_loss_hist,valid_y=Y_val,preds=MC_pred)\n",
    "    \n",
    "    test_mean = np.mean([r[0] for r in rep_results])\n",
    "    test_std_err = np.std([r[0] for r in rep_results]) / np.sqrt(nb_reps)\n",
    "    ps = np.mean([r[1] for r in rep_results], 0)\n",
    "    epistemic_uncertainty = np.mean([r[2] for r in rep_results])\n",
    "    print(\"Epoch - Mean accuracy - Accuracy standard deviation - Dropout probabilities per layer   -   Epistemic uncertainty\")\n",
    "    print nb_epoch, '-', test_mean, '   ', test_std_err, '    ',ps, ' - ', epistemic_uncertainty**0.5\n",
    "    sys.stdout.flush()\n",
    "    results += [rep_results]"
   ]
  },
  {
   "cell_type": "code",
   "execution_count": null,
   "metadata": {},
   "outputs": [],
   "source": []
  },
  {
   "cell_type": "code",
   "execution_count": null,
   "metadata": {},
   "outputs": [],
   "source": [
    "import pickle\n",
    "with open('concrete-dropout.pkl', 'wb') as f:\n",
    "    pickle.dump(results, f)"
   ]
  },
  {
   "cell_type": "code",
   "execution_count": null,
   "metadata": {},
   "outputs": [],
   "source": [
    "# import pickle\n",
    "# with open('concrete-dropout.pkl', 'rb') as f:\n",
    "#     results = pickle.load(f)"
   ]
  },
  {
   "cell_type": "code",
   "execution_count": null,
   "metadata": {},
   "outputs": [],
   "source": []
  },
  {
   "cell_type": "code",
   "execution_count": null,
   "metadata": {},
   "outputs": [],
   "source": [
    "best_tests = np.array([[r[0] for r in result] for result in results]).T\n",
    "best_ps = np.array([[r[1] for r in result] for result in results])\n",
    "best_epistemic_uncertainty = np.array([[r[2] for r in result] for result in results]).T.squeeze()\n",
    "print best_tests.mean(0)\n",
    "print best_ps.mean(1)"
   ]
  },
  {
   "cell_type": "code",
   "execution_count": null,
   "metadata": {},
   "outputs": [],
   "source": []
  },
  {
   "cell_type": "code",
   "execution_count": null,
   "metadata": {},
   "outputs": [],
   "source": [
    "import pylab\n",
    "%matplotlib inline\n",
    "\n",
    "pylab.figure(figsize=(3, 3))\n",
    "pylab.plot(N, np.mean(best_epistemic_uncertainty, 0)**0.5, '-*')\n",
    "pylab.xlabel('Number of data points (N)')\n",
    "pylab.ylabel('Epistemic uncertainty (std)')\n",
    "pylab.xscale('log')\n",
    "pylab.savefig('epistemic.pdf', bbox_inches='tight')\n",
    "pylab.show()\n",
    "\n",
    "pylab.figure(figsize=(3, 3))\n",
    "predictive = np.mean(best_epistemic_uncertainty, 0) + np.mean(best_aleatoric_uncertainty, 0)\n",
    "pylab.plot(N, predictive**0.5, '-*')\n",
    "pylab.xlabel('Number of data points (N)')\n",
    "pylab.ylabel('Predictive uncertainty (std)')\n",
    "pylab.ylim([0, 2])\n",
    "pylab.xscale('log')\n",
    "pylab.savefig('predictive.pdf', bbox_inches='tight')\n",
    "pylab.show()"
   ]
  },
  {
   "cell_type": "code",
   "execution_count": null,
   "metadata": {},
   "outputs": [],
   "source": [
    "pylab.figure(figsize=(3, 1.5))\n",
    "ps = best_ps.mean(1)\n",
    "ps_std = best_ps.std(1)\n",
    "for i, (p, p_std) in enumerate(zip(ps.T, ps_std.T)):\n",
    "    if i == 4:\n",
    "        continue  # layer 4 is noise layer\n",
    "    pylab.plot(N, p, '-*', label='Layer #' + str(i+1))\n",
    "#     pylab.fill_between(Ns, p + p_std, p - p_std, alpha=0.25)\n",
    "pylab.legend(bbox_to_anchor=(1, 0), loc='lower left')\n",
    "pylab.xlabel('Number of data points (N)')\n",
    "pylab.ylabel('Dropout probability')\n",
    "pylab.xscale('log')\n",
    "pylab.savefig('dropout_prob.pdf', bbox_inches='tight')\n",
    "pylab.show()"
   ]
  },
  {
   "cell_type": "code",
   "execution_count": null,
   "metadata": {},
   "outputs": [],
   "source": []
  }
 ],
 "metadata": {
  "kernelspec": {
   "display_name": "Python 2",
   "language": "python",
   "name": "python2"
  },
  "language_info": {
   "codemirror_mode": {
    "name": "ipython",
    "version": 2
   },
   "file_extension": ".py",
   "mimetype": "text/x-python",
   "name": "python",
   "nbconvert_exporter": "python",
   "pygments_lexer": "ipython2",
   "version": "2.7.12"
  }
 },
 "nbformat": 4,
 "nbformat_minor": 1
}
