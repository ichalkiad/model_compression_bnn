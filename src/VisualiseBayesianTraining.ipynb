{
 "cells": [
  {
   "cell_type": "code",
   "execution_count": 16,
   "metadata": {},
   "outputs": [],
   "source": [
    "#Libraries imports\n",
    "import torch\n",
    "import edward\n",
    "from edward.models import Categorical, Mixture, Normal\n",
    "import pandas as pd\n",
    "from sklearn.metrics import mean_squared_error\n",
    "import time\n",
    "import numpy as np\n",
    "import random\n",
    "import tensorflow as tf\n",
    "from matplotlib import pyplot as plt\n",
    "%matplotlib inline"
   ]
  },
  {
   "cell_type": "code",
   "execution_count": 24,
   "metadata": {
    "scrolled": false
   },
   "outputs": [],
   "source": [
    "#Load test data and necessary data for prediction inspection\n",
    "\n",
    "with open('/home/yannis/Desktop/probs.pt','rb') as f:\n",
    "         probs = torch.load(f)\n",
    "with open('/home/yannis/Desktop/centers.pt','rb') as f:\n",
    "         centers = torch.load(f)\n",
    "with open('../data/Wall/test_data_24sensors.pt','rb') as f:\n",
    "      test_ = torch.load(f)\n",
    "\n",
    "\n",
    "#Load N test points\n",
    "N = 10\n",
    "test_data = test_[random.sample(range(0, len(test_)), N),:] "
   ]
  },
  {
   "cell_type": "code",
   "execution_count": 25,
   "metadata": {},
   "outputs": [
    {
     "name": "stdout",
     "output_type": "stream",
     "text": [
      "('Forming the posterior predictive distribution for test data point', 1, '/', 10, '...')\n",
      "('Forming the posterior predictive distribution for test data point', 2, '/', 10, '...')\n",
      "('Forming the posterior predictive distribution for test data point', 3, '/', 10, '...')\n",
      "('Forming the posterior predictive distribution for test data point', 4, '/', 10, '...')\n",
      "('Forming the posterior predictive distribution for test data point', 5, '/', 10, '...')\n",
      "('Forming the posterior predictive distribution for test data point', 6, '/', 10, '...')\n",
      "('Forming the posterior predictive distribution for test data point', 7, '/', 10, '...')\n",
      "('Forming the posterior predictive distribution for test data point', 8, '/', 10, '...')\n",
      "('Forming the posterior predictive distribution for test data point', 9, '/', 10, '...')\n",
      "('Forming the posterior predictive distribution for test data point', 10, '/', 10, '...')\n",
      "('Took altogether', 9, 'secs.')\n",
      "('Sampling the posterior predictive distribution for', 10, 'test data points...')\n",
      "('Took', 9, 'secs.')\n"
     ]
    }
   ],
   "source": [
    "#Inspect posterior predictive distribution\n",
    "\n",
    "y_post = []\n",
    "sigma_y = 1.0\n",
    "n_samples = 100\n",
    "\n",
    "t0 = time.time()\n",
    "for i in range(len(test_data)):\n",
    "    print(\"Forming the posterior predictive distribution for test data point\", i+1, \"/\", len(test_data), \"...\")\n",
    "    y_post.append(Mixture(Categorical(probs = probs[i]), \n",
    "                  [Normal(loc=centers[i][j], scale=sigma_y) for j in range(len(centers[i]))]))\n",
    "    \n",
    "print(\"Took altogether\", np.int(time.time() - t0), \"secs.\")\n",
    "\n",
    "t0 = time.time()\n",
    "print(\"Sampling the posterior predictive distribution for\", len(test_data), \"test data points...\")\n",
    "posteriorsamplenodes = tf.stack([y_post[i].sample(n_samples) for i in range(len(test_data))], axis=1)\n",
    "with tf.Session().as_default():\n",
    "     posteriorsamples = pd.DataFrame(posteriorsamplenodes.eval())\n",
    "\n",
    "\n",
    "print(\"Took\", np.int(time.time() - t0), \"secs.\")"
   ]
  },
  {
   "cell_type": "code",
   "execution_count": 26,
   "metadata": {},
   "outputs": [
    {
     "name": "stdout",
     "output_type": "stream",
     "text": [
      "0    0.138151\n",
      "1    0.366504\n",
      "2    0.187951\n",
      "3    0.269688\n",
      "4    0.158868\n",
      "5    0.070279\n",
      "6    0.059411\n",
      "7    0.222669\n",
      "8    0.206735\n",
      "9    0.193351\n",
      "dtype: float32\n",
      "MSE on test data for Bayesian neural network:\n",
      "2.41\n"
     ]
    },
    {
     "data": {
      "text/html": [
       "<div>\n",
       "<style>\n",
       "    .dataframe thead tr:only-child th {\n",
       "        text-align: right;\n",
       "    }\n",
       "\n",
       "    .dataframe thead th {\n",
       "        text-align: left;\n",
       "    }\n",
       "\n",
       "    .dataframe tbody tr th {\n",
       "        vertical-align: top;\n",
       "    }\n",
       "</style>\n",
       "<table border=\"1\" class=\"dataframe\">\n",
       "  <thead>\n",
       "    <tr style=\"text-align: right;\">\n",
       "      <th></th>\n",
       "      <th>Bayesian_prediction</th>\n",
       "      <th>Bayesian_prediction_low</th>\n",
       "      <th>Bayesian_prediction_high</th>\n",
       "    </tr>\n",
       "  </thead>\n",
       "  <tbody>\n",
       "    <tr>\n",
       "      <th>0</th>\n",
       "      <td>0.14</td>\n",
       "      <td>-2.31</td>\n",
       "      <td>2.90</td>\n",
       "    </tr>\n",
       "    <tr>\n",
       "      <th>1</th>\n",
       "      <td>0.37</td>\n",
       "      <td>-2.06</td>\n",
       "      <td>2.92</td>\n",
       "    </tr>\n",
       "    <tr>\n",
       "      <th>2</th>\n",
       "      <td>0.19</td>\n",
       "      <td>-2.38</td>\n",
       "      <td>2.61</td>\n",
       "    </tr>\n",
       "    <tr>\n",
       "      <th>3</th>\n",
       "      <td>0.27</td>\n",
       "      <td>-1.82</td>\n",
       "      <td>2.85</td>\n",
       "    </tr>\n",
       "    <tr>\n",
       "      <th>4</th>\n",
       "      <td>0.16</td>\n",
       "      <td>-2.62</td>\n",
       "      <td>2.33</td>\n",
       "    </tr>\n",
       "    <tr>\n",
       "      <th>5</th>\n",
       "      <td>0.07</td>\n",
       "      <td>-2.90</td>\n",
       "      <td>2.58</td>\n",
       "    </tr>\n",
       "    <tr>\n",
       "      <th>6</th>\n",
       "      <td>0.06</td>\n",
       "      <td>-2.10</td>\n",
       "      <td>2.15</td>\n",
       "    </tr>\n",
       "    <tr>\n",
       "      <th>7</th>\n",
       "      <td>0.22</td>\n",
       "      <td>-2.22</td>\n",
       "      <td>3.61</td>\n",
       "    </tr>\n",
       "    <tr>\n",
       "      <th>8</th>\n",
       "      <td>0.21</td>\n",
       "      <td>-2.12</td>\n",
       "      <td>2.21</td>\n",
       "    </tr>\n",
       "    <tr>\n",
       "      <th>9</th>\n",
       "      <td>0.19</td>\n",
       "      <td>-1.67</td>\n",
       "      <td>2.15</td>\n",
       "    </tr>\n",
       "  </tbody>\n",
       "</table>\n",
       "</div>"
      ],
      "text/plain": [
       "   Bayesian_prediction  Bayesian_prediction_low  Bayesian_prediction_high\n",
       "0                 0.14                    -2.31                      2.90\n",
       "1                 0.37                    -2.06                      2.92\n",
       "2                 0.19                    -2.38                      2.61\n",
       "3                 0.27                    -1.82                      2.85\n",
       "4                 0.16                    -2.62                      2.33\n",
       "5                 0.07                    -2.90                      2.58\n",
       "6                 0.06                    -2.10                      2.15\n",
       "7                 0.22                    -2.22                      3.61\n",
       "8                 0.21                    -2.12                      2.21\n",
       "9                 0.19                    -1.67                      2.15"
      ]
     },
     "execution_count": 26,
     "metadata": {},
     "output_type": "execute_result"
    }
   ],
   "source": [
    "#Inspect prediction statistics\n",
    "\n",
    "predictions = posteriorsamples.mean()\n",
    "predictions_low = posteriorsamples.quantile(0.01)\n",
    "predictions_high = posteriorsamples.quantile(0.99)\n",
    "\n",
    "results = pd.DataFrame()\n",
    "results['Bayesian_prediction'] = predictions\n",
    "print(predictions)\n",
    "results['Bayesian_prediction_low'] = predictions_low\n",
    "results['Bayesian_prediction_high'] = predictions_high\n",
    "\n",
    "print(\"MSE on test data for Bayesian neural network:\")\n",
    "print(np.round(mean_squared_error(results['Bayesian_prediction'], test_data[:,24]), 2))\n",
    "results = results.applymap(lambda x: np.round(x,2))\n",
    "results"
   ]
  },
  {
   "cell_type": "code",
   "execution_count": 29,
   "metadata": {},
   "outputs": [
    {
     "name": "stdout",
     "output_type": "stream",
     "text": [
      "9\n"
     ]
    },
    {
     "data": {
      "text/plain": [
       "<matplotlib.text.Text at 0x7fbb75869cd0>"
      ]
     },
     "execution_count": 29,
     "metadata": {},
     "output_type": "execute_result"
    },
    {
     "data": {
      "image/png": "[encoded data removed]",
      "text/plain": [
       "<matplotlib.figure.Figure at 0x7fbb759eb210>"
      ]
     },
     "metadata": {},
     "output_type": "display_data"
    }
   ],
   "source": [
    "#Visualise one (random) prediction and associated uncertainty\n",
    "\n",
    "test_sample_number = np.random.choice(range(len(test_data)))\n",
    "print(test_sample_number)\n",
    "\n",
    "plt.figure(figsize=(15,5))\n",
    "\n",
    "_, _, histogram = plt.hist(posteriorsamples[test_sample_number].values, bins=50)\n",
    "plt.xlabel(\"prediction\")\n",
    "plt.ylabel(\"probability times \" + str(n_samples))\n",
    "plt.axvline(results.loc[test_sample_number, 'Bayesian_prediction'], color='g', linewidth=4, label=\"Bayesian NN\")\n",
    "plt.axvline(test_data[test_sample_number,24], color='k', linewidth=4, label=\"true\")\n",
    "plt.legend()\n",
    "plt.title(\"Results for test data point \" + str(test_sample_number))"
   ]
  },
  {
   "cell_type": "code",
   "execution_count": null,
   "metadata": {},
   "outputs": [],
   "source": []
  }
 ],
 "metadata": {
  "kernelspec": {
   "display_name": "Python 2",
   "language": "python",
   "name": "python2"
  },
  "language_info": {
   "codemirror_mode": {
    "name": "ipython",
    "version": 2
   },
   "file_extension": ".py",
   "mimetype": "text/x-python",
   "name": "python",
   "nbconvert_exporter": "python",
   "pygments_lexer": "ipython2",
   "version": "2.7.12"
  }
 },
 "nbformat": 4,
 "nbformat_minor": 2
}
