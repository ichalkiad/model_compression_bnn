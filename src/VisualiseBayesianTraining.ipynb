{
 "cells": [
  {
   "cell_type": "code",
   "execution_count": 1,
   "metadata": {},
   "outputs": [],
   "source": [
    "#Libraries imports\n",
    "import torch\n",
    "import edward\n",
    "from edward.models import Categorical, Mixture, Normal\n",
    "import pandas as pd\n",
    "from sklearn.metrics import mean_squared_error\n",
    "import time\n",
    "import numpy as np\n",
    "import random\n",
    "import tensorflow as tf\n",
    "from matplotlib import pyplot as plt\n",
    "%matplotlib inline"
   ]
  },
  {
   "cell_type": "code",
   "execution_count": 3,
   "metadata": {
    "scrolled": false
   },
   "outputs": [],
   "source": [
    "#Load test data and necessary data for prediction inspection\n",
    "\n",
    "with open('/tmp/PredictionPDF.pt','rb') as f:\n",
    "         probs = torch.load(f)\n",
    "with open('/tmp/PDFCenters.pt','rb') as f:\n",
    "         centers = torch.load(f)\n",
    "with open('../data/Wall/test_data_2sensors_1hot.pt','rb') as f:\n",
    "      test_ = torch.load(f)\n",
    "\n",
    "\n",
    "#Load N test points\n",
    "N = 10\n",
    "test_data = test_[random.sample(range(0, len(test_)), N),:] "
   ]
  },
  {
   "cell_type": "code",
   "execution_count": 4,
   "metadata": {},
   "outputs": [
    {
     "name": "stdout",
     "output_type": "stream",
     "text": [
      "('Forming the posterior predictive distribution for test data point', 1, '/', 10, '...')\n",
      "('Forming the posterior predictive distribution for test data point', 2, '/', 10, '...')\n",
      "('Forming the posterior predictive distribution for test data point', 3, '/', 10, '...')\n",
      "('Forming the posterior predictive distribution for test data point', 4, '/', 10, '...')\n",
      "('Forming the posterior predictive distribution for test data point', 5, '/', 10, '...')\n",
      "('Forming the posterior predictive distribution for test data point', 6, '/', 10, '...')\n",
      "('Forming the posterior predictive distribution for test data point', 7, '/', 10, '...')\n",
      "('Forming the posterior predictive distribution for test data point', 8, '/', 10, '...')\n",
      "('Forming the posterior predictive distribution for test data point', 9, '/', 10, '...')\n",
      "('Forming the posterior predictive distribution for test data point', 10, '/', 10, '...')\n",
      "('Took altogether', 9, 'secs.')\n",
      "('Sampling the posterior predictive distribution for', 10, 'test data points...')\n",
      "('Took', 9, 'secs.')\n"
     ]
    }
   ],
   "source": [
    "#Inspect posterior predictive distribution\n",
    "\n",
    "y_post = []\n",
    "sigma_y = 1.0\n",
    "n_samples = 100\n",
    "\n",
    "t0 = time.time()\n",
    "for i in range(len(test_data)):\n",
    "    print(\"Forming the posterior predictive distribution for test data point\", i+1, \"/\", len(test_data), \"...\")\n",
    "    y_post.append(Mixture(Categorical(probs = probs[i]), \n",
    "                  [Normal(loc=centers[i][j], scale=sigma_y) for j in range(len(centers[i]))]))\n",
    "    \n",
    "print(\"Took altogether\", np.int(time.time() - t0), \"secs.\")\n",
    "\n",
    "t0 = time.time()\n",
    "print(\"Sampling the posterior predictive distribution for\", len(test_data), \"test data points...\")\n",
    "posteriorsamplenodes = tf.stack([y_post[i].sample(n_samples) for i in range(len(test_data))], axis=1)\n",
    "with tf.Session().as_default():\n",
    "     posteriorsamples = pd.DataFrame(posteriorsamplenodes.eval())\n",
    "\n",
    "\n",
    "print(\"Took\", np.int(time.time() - t0), \"secs.\")"
   ]
  },
  {
   "cell_type": "code",
   "execution_count": 12,
   "metadata": {},
   "outputs": [
    {
     "name": "stdout",
     "output_type": "stream",
     "text": [
      "0    0.338026\n",
      "1    0.453180\n",
      "2    0.276261\n",
      "3    0.480617\n",
      "4    0.256703\n",
      "5    0.383373\n",
      "6    0.493299\n",
      "7    0.551849\n",
      "8    0.310715\n",
      "9    0.563024\n",
      "dtype: float32\n",
      "0    0.338026\n",
      "1    0.453180\n",
      "2    0.276261\n",
      "3    0.480617\n",
      "4    0.256703\n",
      "5    0.383373\n",
      "6    0.493299\n",
      "7    0.551849\n",
      "8    0.310715\n",
      "9    0.563024\n",
      "dtype: float32\n",
      "MSE on test data for Bayesian neural network:\n",
      "0.18\n"
     ]
    },
    {
     "data": {
      "text/html": [
       "<div>\n",
       "<style>\n",
       "    .dataframe thead tr:only-child th {\n",
       "        text-align: right;\n",
       "    }\n",
       "\n",
       "    .dataframe thead th {\n",
       "        text-align: left;\n",
       "    }\n",
       "\n",
       "    .dataframe tbody tr th {\n",
       "        vertical-align: top;\n",
       "    }\n",
       "</style>\n",
       "<table border=\"1\" class=\"dataframe\">\n",
       "  <thead>\n",
       "    <tr style=\"text-align: right;\">\n",
       "      <th></th>\n",
       "      <th>Bayesian_prediction</th>\n",
       "      <th>Bayesian_prediction_low</th>\n",
       "      <th>Bayesian_prediction_high</th>\n",
       "    </tr>\n",
       "  </thead>\n",
       "  <tbody>\n",
       "    <tr>\n",
       "      <th>0</th>\n",
       "      <td>0.34</td>\n",
       "      <td>-1.94</td>\n",
       "      <td>2.43</td>\n",
       "    </tr>\n",
       "    <tr>\n",
       "      <th>1</th>\n",
       "      <td>0.45</td>\n",
       "      <td>-1.92</td>\n",
       "      <td>2.49</td>\n",
       "    </tr>\n",
       "    <tr>\n",
       "      <th>2</th>\n",
       "      <td>0.28</td>\n",
       "      <td>-2.29</td>\n",
       "      <td>2.25</td>\n",
       "    </tr>\n",
       "    <tr>\n",
       "      <th>3</th>\n",
       "      <td>0.48</td>\n",
       "      <td>-2.22</td>\n",
       "      <td>3.07</td>\n",
       "    </tr>\n",
       "    <tr>\n",
       "      <th>4</th>\n",
       "      <td>0.26</td>\n",
       "      <td>-3.34</td>\n",
       "      <td>2.31</td>\n",
       "    </tr>\n",
       "    <tr>\n",
       "      <th>5</th>\n",
       "      <td>0.38</td>\n",
       "      <td>-1.50</td>\n",
       "      <td>2.85</td>\n",
       "    </tr>\n",
       "    <tr>\n",
       "      <th>6</th>\n",
       "      <td>0.49</td>\n",
       "      <td>-2.16</td>\n",
       "      <td>2.92</td>\n",
       "    </tr>\n",
       "    <tr>\n",
       "      <th>7</th>\n",
       "      <td>0.55</td>\n",
       "      <td>-1.75</td>\n",
       "      <td>3.53</td>\n",
       "    </tr>\n",
       "    <tr>\n",
       "      <th>8</th>\n",
       "      <td>0.31</td>\n",
       "      <td>-1.87</td>\n",
       "      <td>2.49</td>\n",
       "    </tr>\n",
       "    <tr>\n",
       "      <th>9</th>\n",
       "      <td>0.56</td>\n",
       "      <td>-2.32</td>\n",
       "      <td>3.43</td>\n",
       "    </tr>\n",
       "  </tbody>\n",
       "</table>\n",
       "</div>"
      ],
      "text/plain": [
       "   Bayesian_prediction  Bayesian_prediction_low  Bayesian_prediction_high\n",
       "0                 0.34                    -1.94                      2.43\n",
       "1                 0.45                    -1.92                      2.49\n",
       "2                 0.28                    -2.29                      2.25\n",
       "3                 0.48                    -2.22                      3.07\n",
       "4                 0.26                    -3.34                      2.31\n",
       "5                 0.38                    -1.50                      2.85\n",
       "6                 0.49                    -2.16                      2.92\n",
       "7                 0.55                    -1.75                      3.53\n",
       "8                 0.31                    -1.87                      2.49\n",
       "9                 0.56                    -2.32                      3.43"
      ]
     },
     "execution_count": 12,
     "metadata": {},
     "output_type": "execute_result"
    }
   ],
   "source": [
    "#Inspect prediction statistics\n",
    "\n",
    "predictions = posteriorsamples.mean()\n",
    "predictions_low = posteriorsamples.quantile(0.01)\n",
    "predictions_high = posteriorsamples.quantile(0.99)\n",
    "print(predictions)\n",
    "results = pd.DataFrame()\n",
    "results['Bayesian_prediction'] = predictions\n",
    "print(predictions)\n",
    "results['Bayesian_prediction_low'] = predictions_low\n",
    "results['Bayesian_prediction_high'] = predictions_high\n",
    "\n",
    "print(\"MSE on test data for Bayesian neural network:\")\n",
    "print(np.round(mean_squared_error(results['Bayesian_prediction'], test_data[:,2]), 2))\n",
    "results = results.applymap(lambda x: np.round(x,2))\n",
    "results"
   ]
  },
  {
   "cell_type": "code",
   "execution_count": 13,
   "metadata": {},
   "outputs": [
    {
     "name": "stdout",
     "output_type": "stream",
     "text": [
      "7\n",
      "[ 0.8309094  -1.7368797   3.5057988   2.6058297   0.07284048 -1.2046102\n",
      "  2.3075285   1.8855275  -1.1582946   0.18892586  0.86931306  2.5168047\n",
      "  1.4492276   0.277875    0.9964552   0.7615038  -1.0209935  -0.14774188\n",
      " -0.05826478  1.9069946   0.07012901  0.5315925   1.6878874   1.1609392\n",
      "  0.2988209  -1.6288211  -1.466791    0.32624173  0.5965077   1.0545971\n",
      "  2.9349675  -0.99061465 -0.8047083   2.721283    1.036118   -0.2181027\n",
      "  1.3310297   0.3886668  -0.7199236   0.7175065   3.1307187   0.33818337\n",
      "  0.5116917   0.94099325  0.03916761  0.6769243  -0.85956657  0.3274856\n",
      " -0.45756724  0.13076651  0.8815958   0.9146383   1.2293098  -0.4999794\n",
      " -0.23694158 -0.92037326  1.1131026   1.1130503  -0.6983726   1.3586205\n",
      "  0.22122134 -0.1865747   0.4608035  -0.06176007  3.5247478   1.0528097\n",
      " -0.78494585  1.1665434   1.0426062   0.64052516  1.0915117  -3.148363\n",
      "  0.27106726  0.40288338  1.9465013   0.91879064 -0.17228842 -0.14868534\n",
      "  2.126967   -1.4766551   0.23941348  2.465152    3.554009   -0.01535422\n",
      " -0.03170598  1.5253692  -0.969129    1.9277366   1.2924833   2.409699\n",
      "  0.46940982  1.0672134  -0.7789989  -0.25324214  1.4731127  -1.2220614\n",
      "  1.7397125   1.2749579  -1.300888   -1.4792066 ]\n"
     ]
    },
    {
     "data": {
      "text/plain": [
       "Text(0.5,1,'Results for test data point 7')"
      ]
     },
     "execution_count": 13,
     "metadata": {},
     "output_type": "execute_result"
    },
    {
     "data": {
      "image/png": "[encoded data removed]",
      "text/plain": [
       "<Figure size 1080x360 with 1 Axes>"
      ]
     },
     "metadata": {},
     "output_type": "display_data"
    }
   ],
   "source": [
    "#Visualise one (random) prediction and associated uncertainty\n",
    "\n",
    "test_sample_number = np.random.choice(range(len(test_data)))\n",
    "print(test_sample_number)\n",
    "print((posteriorsamples[test_sample_number].values))\n",
    "plt.figure(figsize=(15,5))\n",
    "\n",
    "_, _, histogram = plt.hist(posteriorsamples[test_sample_number].values, bins=50)\n",
    "plt.xlabel(\"prediction\")\n",
    "plt.ylabel(\"probability times \" + str(n_samples))\n",
    "plt.axvline(results.loc[test_sample_number, 'Bayesian_prediction'], color='g', linewidth=4, label=\"Bayesian NN\")\n",
    "plt.axvline(test_data[test_sample_number,2], color='k', linewidth=4, label=\"true\")\n",
    "plt.legend()\n",
    "plt.title(\"Results for test data point \" + str(test_sample_number))"
   ]
  },
  {
   "cell_type": "code",
   "execution_count": null,
   "metadata": {},
   "outputs": [],
   "source": []
  }
 ],
 "metadata": {
  "kernelspec": {
   "display_name": "Python 2",
   "language": "python",
   "name": "python2"
  },
  "language_info": {
   "codemirror_mode": {
    "name": "ipython",
    "version": 2
   },
   "file_extension": ".py",
   "mimetype": "text/x-python",
   "name": "python",
   "nbconvert_exporter": "python",
   "pygments_lexer": "ipython2",
   "version": "2.7.12"
  }
 },
 "nbformat": 4,
 "nbformat_minor": 2
}
