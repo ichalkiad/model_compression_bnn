{
 "cells": [
  {
   "cell_type": "code",
   "execution_count": 1,
   "metadata": {},
   "outputs": [],
   "source": [
    "#Libraries imports\n",
    "import torch\n",
    "import edward\n",
    "from edward.models import OneHotCategorical, Mixture, Normal\n",
    "import pandas as pd\n",
    "from sklearn.metrics import mean_squared_error\n",
    "import time\n",
    "import numpy as np\n",
    "import random\n",
    "import tensorflow as tf\n",
    "from matplotlib import pyplot as plt\n",
    "%matplotlib inline"
   ]
  },
  {
   "cell_type": "code",
   "execution_count": 2,
   "metadata": {
    "scrolled": false
   },
   "outputs": [],
   "source": [
    "#Load test data and necessary data for prediction inspection\n",
    "\n",
    "with open('/tmp/PredictionPDF.pt','rb') as f:\n",
    "         probs = torch.load(f)\n",
    "#with open('/tmp/PDFCenters.pt','rb') as f:\n",
    "#         centers = torch.load(f)\n",
    "with open('../data/Wall/test_data_2sensors_1hot.pt','rb') as f:\n",
    "      test_ = torch.load(f)\n",
    "\n",
    "\n",
    "#Load N test points\n",
    "N = 10\n",
    "test_data = test_[random.sample(range(0, len(test_)), N),:] "
   ]
  },
  {
   "cell_type": "code",
   "execution_count": 3,
   "metadata": {},
   "outputs": [
    {
     "name": "stdout",
     "output_type": "stream",
     "text": [
      "('Forming the posterior predictive distribution for test data point', 1, '/', 10, '...')\n",
      "('Forming the posterior predictive distribution for test data point', 2, '/', 10, '...')\n",
      "('Forming the posterior predictive distribution for test data point', 3, '/', 10, '...')\n",
      "('Forming the posterior predictive distribution for test data point', 4, '/', 10, '...')\n",
      "('Forming the posterior predictive distribution for test data point', 5, '/', 10, '...')\n",
      "('Forming the posterior predictive distribution for test data point', 6, '/', 10, '...')\n",
      "('Forming the posterior predictive distribution for test data point', 7, '/', 10, '...')\n",
      "('Forming the posterior predictive distribution for test data point', 8, '/', 10, '...')\n",
      "('Forming the posterior predictive distribution for test data point', 9, '/', 10, '...')\n",
      "('Forming the posterior predictive distribution for test data point', 10, '/', 10, '...')\n",
      "('Took altogether', 0, 'secs.')\n",
      "('Sampling the posterior predictive distribution for', 10, 'test data points...')\n",
      "       0    1    2    3    4    5    6    7    8    9\n",
      "0    2.0  2.0  2.0  2.0  2.0  0.0  2.0  2.0  0.0  0.0\n",
      "1    2.0  2.0  2.0  2.0  2.0  3.0  2.0  2.0  3.0  0.0\n",
      "2    2.0  2.0  2.0  2.0  2.0  3.0  2.0  2.0  0.0  0.0\n",
      "3    2.0  2.0  2.0  2.0  2.0  3.0  2.0  2.0  0.0  0.0\n",
      "4    2.0  2.0  2.0  2.0  2.0  3.0  2.0  2.0  0.0  0.0\n",
      "5    2.0  2.0  2.0  2.0  2.0  3.0  2.0  2.0  0.0  0.0\n",
      "6    2.0  2.0  2.0  2.0  2.0  3.0  2.0  2.0  0.0  0.0\n",
      "7    2.0  2.0  2.0  2.0  2.0  0.0  2.0  2.0  0.0  0.0\n",
      "8    2.0  2.0  2.0  2.0  2.0  3.0  2.0  2.0  0.0  0.0\n",
      "9    2.0  2.0  2.0  2.0  2.0  3.0  2.0  2.0  0.0  0.0\n",
      "10   2.0  2.0  2.0  2.0  2.0  0.0  2.0  2.0  0.0  0.0\n",
      "11   2.0  2.0  2.0  2.0  2.0  3.0  2.0  2.0  0.0  0.0\n",
      "12   2.0  2.0  2.0  2.0  2.0  3.0  2.0  2.0  0.0  0.0\n",
      "13   2.0  2.0  2.0  2.0  2.0  0.0  2.0  2.0  0.0  0.0\n",
      "14   2.0  2.0  2.0  2.0  2.0  3.0  2.0  2.0  0.0  0.0\n",
      "15   2.0  2.0  2.0  2.0  2.0  3.0  2.0  2.0  0.0  0.0\n",
      "16   2.0  2.0  2.0  2.0  2.0  3.0  2.0  2.0  0.0  0.0\n",
      "17   2.0  2.0  2.0  2.0  2.0  3.0  2.0  2.0  0.0  0.0\n",
      "18   2.0  2.0  2.0  2.0  2.0  3.0  2.0  2.0  0.0  0.0\n",
      "19   2.0  2.0  2.0  2.0  2.0  3.0  2.0  2.0  0.0  0.0\n",
      "20   2.0  2.0  2.0  2.0  2.0  3.0  2.0  2.0  0.0  0.0\n",
      "21   2.0  2.0  2.0  2.0  2.0  3.0  2.0  2.0  3.0  0.0\n",
      "22   2.0  2.0  2.0  2.0  2.0  0.0  2.0  2.0  3.0  0.0\n",
      "23   2.0  2.0  2.0  2.0  2.0  3.0  2.0  2.0  0.0  0.0\n",
      "24   2.0  2.0  2.0  2.0  2.0  0.0  2.0  2.0  0.0  0.0\n",
      "25   2.0  2.0  2.0  2.0  2.0  3.0  2.0  2.0  0.0  0.0\n",
      "26   2.0  2.0  2.0  2.0  2.0  3.0  2.0  2.0  0.0  0.0\n",
      "27   2.0  2.0  2.0  2.0  2.0  3.0  2.0  2.0  0.0  3.0\n",
      "28   2.0  2.0  2.0  2.0  2.0  3.0  2.0  2.0  0.0  0.0\n",
      "29   2.0  2.0  2.0  2.0  2.0  3.0  2.0  2.0  0.0  0.0\n",
      "..   ...  ...  ...  ...  ...  ...  ...  ...  ...  ...\n",
      "170  2.0  2.0  2.0  2.0  2.0  3.0  2.0  2.0  0.0  0.0\n",
      "171  2.0  2.0  2.0  2.0  2.0  3.0  2.0  2.0  0.0  0.0\n",
      "172  2.0  2.0  2.0  2.0  2.0  3.0  2.0  2.0  3.0  0.0\n",
      "173  2.0  2.0  2.0  2.0  2.0  0.0  2.0  2.0  0.0  0.0\n",
      "174  2.0  2.0  2.0  2.0  2.0  3.0  2.0  2.0  0.0  0.0\n",
      "175  2.0  2.0  2.0  2.0  2.0  0.0  2.0  2.0  0.0  0.0\n",
      "176  2.0  2.0  2.0  2.0  2.0  3.0  2.0  2.0  0.0  0.0\n",
      "177  2.0  2.0  2.0  2.0  2.0  3.0  2.0  2.0  0.0  0.0\n",
      "178  2.0  2.0  2.0  2.0  2.0  3.0  2.0  2.0  0.0  0.0\n",
      "179  2.0  2.0  2.0  2.0  2.0  3.0  2.0  2.0  3.0  0.0\n",
      "180  2.0  2.0  2.0  2.0  2.0  3.0  2.0  2.0  0.0  0.0\n",
      "181  2.0  2.0  2.0  2.0  2.0  3.0  2.0  2.0  0.0  0.0\n",
      "182  2.0  2.0  2.0  2.0  2.0  3.0  2.0  2.0  0.0  0.0\n",
      "183  2.0  2.0  2.0  2.0  2.0  3.0  2.0  2.0  0.0  0.0\n",
      "184  2.0  2.0  2.0  2.0  2.0  3.0  2.0  2.0  0.0  0.0\n",
      "185  2.0  2.0  2.0  2.0  2.0  3.0  2.0  2.0  0.0  0.0\n",
      "186  2.0  2.0  2.0  2.0  2.0  0.0  2.0  2.0  0.0  0.0\n",
      "187  2.0  2.0  2.0  2.0  2.0  3.0  2.0  2.0  0.0  0.0\n",
      "188  2.0  2.0  2.0  2.0  2.0  3.0  2.0  2.0  0.0  0.0\n",
      "189  2.0  2.0  2.0  2.0  2.0  3.0  2.0  2.0  0.0  0.0\n",
      "190  2.0  2.0  2.0  2.0  2.0  3.0  2.0  2.0  0.0  0.0\n",
      "191  2.0  2.0  2.0  2.0  2.0  3.0  2.0  2.0  3.0  0.0\n",
      "192  2.0  2.0  2.0  2.0  2.0  3.0  2.0  2.0  0.0  0.0\n",
      "193  2.0  2.0  2.0  2.0  2.0  3.0  2.0  2.0  0.0  0.0\n",
      "194  2.0  2.0  2.0  2.0  2.0  3.0  2.0  2.0  0.0  0.0\n",
      "195  2.0  2.0  2.0  2.0  2.0  3.0  2.0  2.0  3.0  0.0\n",
      "196  2.0  2.0  2.0  2.0  2.0  0.0  2.0  2.0  3.0  0.0\n",
      "197  2.0  2.0  2.0  2.0  2.0  3.0  2.0  2.0  0.0  0.0\n",
      "198  2.0  2.0  2.0  2.0  2.0  3.0  2.0  2.0  0.0  0.0\n",
      "199  2.0  2.0  2.0  2.0  2.0  3.0  2.0  2.0  3.0  0.0\n",
      "\n",
      "[200 rows x 10 columns]\n",
      "('Took', 0, 'secs.')\n"
     ]
    }
   ],
   "source": [
    "#Inspect posterior predictive distribution\n",
    "\n",
    "y_post = []\n",
    "sigma_y = 1.0\n",
    "n_samples = 200\n",
    "\n",
    "\n",
    "t0 = time.time()\n",
    "for i in xrange(N):\n",
    "    print(\"Forming the posterior predictive distribution for test data point\", i+1, \"/\", len(test_data), \"...\")\n",
    "    y_post.append(OneHotCategorical(probs = probs[i]))\n",
    "    \n",
    "print(\"Took altogether\", np.int(time.time() - t0), \"secs.\")\n",
    "\n",
    "t0 = time.time()                                                                                                                                                                                                                                                                                                                                                                                                                                                            \n",
    "print(\"Sampling the posterior predictive distribution for\", len(test_data), \"test data points...\")\n",
    "posteriorsamplenodes = tf.stack([y_post[i].sample(n_samples) for i in range(N)], axis=1)\n",
    "#Posterior samples contain n_samples samples from each posterior predictive distribution, shape = n_samples x N\n",
    "psnodes = np.zeros((n_samples,N))\n",
    "with tf.Session().as_default():\n",
    "     for i in xrange(N):\n",
    "        psnodes[:,i] = np.argmax(y_post[i].sample(n_samples).eval(),axis=1)\n",
    "     \n",
    "     posteriorsamples = pd.DataFrame(psnodes)\n",
    "    \n",
    "print(posteriorsamples)\n",
    "print(\"Took\", np.int(time.time() - t0), \"secs.\")"
   ]
  },
  {
   "cell_type": "code",
   "execution_count": 4,
   "metadata": {
    "scrolled": true
   },
   "outputs": [
    {
     "name": "stdout",
     "output_type": "stream",
     "text": [
      "Accuracy on test data for Bayesian neural network:\n",
      "10.0\n"
     ]
    },
    {
     "data": {
      "text/html": [
       "<div>\n",
       "<style>\n",
       "    .dataframe thead tr:only-child th {\n",
       "        text-align: right;\n",
       "    }\n",
       "\n",
       "    .dataframe thead th {\n",
       "        text-align: left;\n",
       "    }\n",
       "\n",
       "    .dataframe tbody tr th {\n",
       "        vertical-align: top;\n",
       "    }\n",
       "</style>\n",
       "<table border=\"1\" class=\"dataframe\">\n",
       "  <thead>\n",
       "    <tr style=\"text-align: right;\">\n",
       "      <th></th>\n",
       "      <th>Bayesian_prediction</th>\n",
       "      <th>Bayesian_prediction_low</th>\n",
       "      <th>Bayesian_prediction_high</th>\n",
       "    </tr>\n",
       "  </thead>\n",
       "  <tbody>\n",
       "    <tr>\n",
       "      <th>0</th>\n",
       "      <td>2.000</td>\n",
       "      <td>2.0</td>\n",
       "      <td>2.0</td>\n",
       "    </tr>\n",
       "    <tr>\n",
       "      <th>1</th>\n",
       "      <td>2.000</td>\n",
       "      <td>2.0</td>\n",
       "      <td>2.0</td>\n",
       "    </tr>\n",
       "    <tr>\n",
       "      <th>2</th>\n",
       "      <td>2.000</td>\n",
       "      <td>2.0</td>\n",
       "      <td>2.0</td>\n",
       "    </tr>\n",
       "    <tr>\n",
       "      <th>3</th>\n",
       "      <td>2.000</td>\n",
       "      <td>2.0</td>\n",
       "      <td>2.0</td>\n",
       "    </tr>\n",
       "    <tr>\n",
       "      <th>4</th>\n",
       "      <td>2.000</td>\n",
       "      <td>2.0</td>\n",
       "      <td>2.0</td>\n",
       "    </tr>\n",
       "    <tr>\n",
       "      <th>5</th>\n",
       "      <td>2.310</td>\n",
       "      <td>0.0</td>\n",
       "      <td>3.0</td>\n",
       "    </tr>\n",
       "    <tr>\n",
       "      <th>6</th>\n",
       "      <td>2.000</td>\n",
       "      <td>2.0</td>\n",
       "      <td>2.0</td>\n",
       "    </tr>\n",
       "    <tr>\n",
       "      <th>7</th>\n",
       "      <td>2.000</td>\n",
       "      <td>2.0</td>\n",
       "      <td>2.0</td>\n",
       "    </tr>\n",
       "    <tr>\n",
       "      <th>8</th>\n",
       "      <td>0.450</td>\n",
       "      <td>0.0</td>\n",
       "      <td>3.0</td>\n",
       "    </tr>\n",
       "    <tr>\n",
       "      <th>9</th>\n",
       "      <td>0.015</td>\n",
       "      <td>0.0</td>\n",
       "      <td>0.0</td>\n",
       "    </tr>\n",
       "  </tbody>\n",
       "</table>\n",
       "</div>"
      ],
      "text/plain": [
       "   Bayesian_prediction  Bayesian_prediction_low  Bayesian_prediction_high\n",
       "0                2.000                      2.0                       2.0\n",
       "1                2.000                      2.0                       2.0\n",
       "2                2.000                      2.0                       2.0\n",
       "3                2.000                      2.0                       2.0\n",
       "4                2.000                      2.0                       2.0\n",
       "5                2.310                      0.0                       3.0\n",
       "6                2.000                      2.0                       2.0\n",
       "7                2.000                      2.0                       2.0\n",
       "8                0.450                      0.0                       3.0\n",
       "9                0.015                      0.0                       0.0"
      ]
     },
     "execution_count": 4,
     "metadata": {},
     "output_type": "execute_result"
    }
   ],
   "source": [
    "#Inspect prediction statistics\n",
    "\n",
    "#Predictions are the mean over the #n_samples predicted values for each test data point\n",
    "predictions = posteriorsamples.mean()\n",
    "predictions_low = posteriorsamples.quantile(0.01)\n",
    "predictions_high = posteriorsamples.quantile(0.99)\n",
    "\n",
    "results = pd.DataFrame()\n",
    "results['Bayesian_prediction'] = predictions    \n",
    "results['Bayesian_prediction_low'] = predictions_low\n",
    "results['Bayesian_prediction_high'] = predictions_high\n",
    "\n",
    "#Results contain the accuracy of the predictions on the test data points\n",
    "print(\"Accuracy on test data for Bayesian neural network:\")\n",
    "print(len(np.where(results['Bayesian_prediction']==np.argmax(test_data[:,2:6],axis=1))[0])/float(len(test_data[:,2]))*100)\n",
    "results"
   ]
  },
  {
   "cell_type": "code",
   "execution_count": 9,
   "metadata": {},
   "outputs": [
    {
     "name": "stdout",
     "output_type": "stream",
     "text": [
      "4\n",
      "[2. 2. 2. 2. 2. 2. 2. 2. 2. 2. 2. 2. 2. 2. 2. 2. 2. 2. 2. 2. 2. 2. 2. 2.\n",
      " 2. 2. 2. 2. 2. 2. 2. 2. 2. 2. 2. 2. 2. 2. 2. 2. 2. 2. 2. 2. 2. 2. 2. 2.\n",
      " 2. 2. 2. 2. 2. 2. 2. 2. 2. 2. 2. 2. 2. 2. 2. 2. 2. 2. 2. 2. 2. 2. 2. 2.\n",
      " 2. 2. 2. 2. 2. 2. 2. 2. 2. 2. 2. 2. 2. 2. 2. 2. 2. 2. 2. 2. 2. 2. 2. 2.\n",
      " 2. 2. 2. 2. 2. 2. 2. 2. 2. 2. 2. 2. 2. 2. 2. 2. 2. 2. 2. 2. 2. 2. 2. 2.\n",
      " 2. 2. 2. 2. 2. 2. 2. 2. 2. 2. 2. 2. 2. 2. 2. 2. 2. 2. 2. 2. 2. 2. 2. 2.\n",
      " 2. 2. 2. 2. 2. 2. 2. 2. 2. 2. 2. 2. 2. 2. 2. 2. 2. 2. 2. 2. 2. 2. 2. 2.\n",
      " 2. 2. 2. 2. 2. 2. 2. 2. 2. 2. 2. 2. 2. 2. 2. 2. 2. 2. 2. 2. 2. 2. 2. 2.\n",
      " 2. 2. 2. 2. 2. 2. 2. 2.]\n"
     ]
    },
    {
     "data": {
      "text/plain": [
       "Text(0.5,1,'Results for test data point 4')"
      ]
     },
     "execution_count": 9,
     "metadata": {},
     "output_type": "execute_result"
    },
    {
     "data": {
      "image/png": "[encoded data removed]",
      "text/plain": [
       "<Figure size 1080x360 with 1 Axes>"
      ]
     },
     "metadata": {},
     "output_type": "display_data"
    }
   ],
   "source": [
    "#Visualise one (random) prediction and associated uncertainty\n",
    "\n",
    "test_sample_number = np.random.choice(range(len(test_data)))\n",
    "print(test_sample_number)\n",
    "print((posteriorsamples[test_sample_number].values))\n",
    "plt.figure(figsize=(15,5))\n",
    "\n",
    "_, _, histogram = plt.hist(posteriorsamples[test_sample_number].values, bins=4, density=False)\n",
    "plt.xlabel(\"Predicted class\")\n",
    "plt.ylabel(\"Number of total predictions per class\")\n",
    "plt.axvline(results.loc[test_sample_number, 'Bayesian_prediction'], color='g', linewidth=4, label=\"Bayesian NN\")\n",
    "plt.axvline(test_data[test_sample_number,2], color='k', linewidth=4, label=\"Ground truth\")\n",
    "plt.legend()\n",
    "plt.title(\"Results for test data point \" + str(test_sample_number))"
   ]
  },
  {
   "cell_type": "code",
   "execution_count": null,
   "metadata": {},
   "outputs": [],
   "source": []
  },
  {
   "cell_type": "code",
   "execution_count": null,
   "metadata": {},
   "outputs": [],
   "source": []
  },
  {
   "cell_type": "code",
   "execution_count": null,
   "metadata": {},
   "outputs": [],
   "source": []
  },
  {
   "cell_type": "code",
   "execution_count": null,
   "metadata": {},
   "outputs": [],
   "source": []
  },
  {
   "cell_type": "code",
   "execution_count": null,
   "metadata": {},
   "outputs": [],
   "source": []
  },
  {
   "cell_type": "code",
   "execution_count": null,
   "metadata": {},
   "outputs": [],
   "source": []
  }
 ],
 "metadata": {
  "kernelspec": {
   "display_name": "Python 2",
   "language": "python",
   "name": "python2"
  },
  "language_info": {
   "codemirror_mode": {
    "name": "ipython",
    "version": 2
   },
   "file_extension": ".py",
   "mimetype": "text/x-python",
   "name": "python",
   "nbconvert_exporter": "python",
   "pygments_lexer": "ipython2",
   "version": "2.7.12"
  }
 },
 "nbformat": 4,
 "nbformat_minor": 2
}
